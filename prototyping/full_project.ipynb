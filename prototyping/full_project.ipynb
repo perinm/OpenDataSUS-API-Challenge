{
 "cells": [
  {
   "cell_type": "code",
   "execution_count": 12,
   "source": [
    "from data_wrangling import Data_Wrangling\n",
    "from data_ingestion import Data_Ingestion\n",
    "\n",
    "import pandas as pd\n",
    "\n",
    "dingestion = Data_Ingestion()\n",
    "\n",
    "# download json to csv\n",
    "df_people = dingestion.download_vaccinated_people_info()\n",
    "\n",
    "dwrangling = Data_Wrangling()\n",
    "\n",
    "# gather which rows are outlier in a binary True/False pd.Series\n",
    "outlier = dwrangling.flag_outliers_in_col(\n",
    "    df_people\n",
    ")\n",
    "\n",
    "# show outliers\n",
    "df_people[outlier].paciente_idade\n",
    "\n",
    "# filter df based on outliers\n",
    "df_people = dwrangling.filter_outliers(\n",
    "    df_people,\n",
    "    outlier\n",
    ")\n",
    "\n",
    "print(f\"New len of df: {len(df_people)}\")\n",
    "\n",
    "save_path = './cadastro_estabelecimentos_cnes.zip'\n",
    "\n",
    "dingestion.download_establishment_data_zip(\n",
    "    url = 'https://sage.saude.gov.br/dados/repositorio/cadastro_estabelecimentos_cnes.zip',\n",
    "    save_path = save_path\n",
    ")\n",
    "\n",
    "dingestion.unzip_establishment_data(\n",
    "    path_to_zip_file = save_path,\n",
    "    directory_to_extract_to = './'\n",
    ")\n",
    "\n",
    "df_estabilishement = pd.read_csv(\"cadastro_estabelecimentos_cnes.csv\", sep=';')\n",
    "\n",
    "df_people['estabelecimento_valor'] = df_people['estabelecimento_valor'].astype(int)\n",
    "\n",
    "df_full = df_people.merge(\n",
    "    df_estabilishement,\n",
    "    left_on='estabelecimento_valor',\n",
    "    right_on='CNES',\n",
    "    validate='many_to_one')\n",
    "\n",
    "# drop no longer necessary key column\n",
    "df_full.drop(\n",
    "    ['CNES'],\n",
    "    axis=1,\n",
    "    inplace=True\n",
    ")\n",
    "\n",
    "filename = 'OpenSUS_Covid_merged_data'\n",
    "df_full.to_excel(f'{filename}.xlsx', index=False)\n",
    "df_full.to_csv(f'{filename}.csv',index=False)"
   ],
   "outputs": [
    {
     "output_type": "stream",
     "name": "stdout",
     "text": [
      "Gathered 10000 records.\n",
      "Number of outliers: 6\n",
      "New len of df: 9994\n"
     ]
    }
   ],
   "metadata": {}
  },
  {
   "cell_type": "code",
   "execution_count": 2,
   "source": [
    "print(Data_Wrangling.__doc__)"
   ],
   "outputs": [
    {
     "output_type": "stream",
     "name": "stdout",
     "text": [
      "\n",
      "    Class to represent methods to clean and transform data.\n",
      "\n",
      "    ...\n",
      "\n",
      "    Attributes\n",
      "    ----------\n",
      "    None\n",
      "\n",
      "    Methods\n",
      "    -------\n",
      "    download_vaccinated_people_info(n=10000):\n",
      "        Returns data downloaded from a HTTP request to OpenDataSUS API.\n",
      "\n",
      "    flag_outliers_in_col(df, col='paciente_idade', threshold=2):\n",
      "        Flag which documents are outliers based on z-score bigger than threshold.\n",
      "    \n",
      "    filter_outliers(self, df, outlier):\n",
      "        Filter outliers based on flag pd.Series.\n",
      "    \n"
     ]
    }
   ],
   "metadata": {}
  }
 ],
 "metadata": {
  "interpreter": {
   "hash": "916dbcbb3f70747c44a77c7bcd40155683ae19c65e1c03b4aa3499c5328201f1"
  },
  "kernelspec": {
   "display_name": "Python 3 (ipykernel)",
   "language": "python",
   "name": "python3"
  },
  "language_info": {
   "codemirror_mode": {
    "name": "ipython",
    "version": 3
   },
   "file_extension": ".py",
   "mimetype": "text/x-python",
   "name": "python",
   "nbconvert_exporter": "python",
   "pygments_lexer": "ipython3",
   "version": "3.9.5"
  }
 },
 "nbformat": 4,
 "nbformat_minor": 4
}