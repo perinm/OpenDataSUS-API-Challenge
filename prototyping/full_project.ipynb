{
 "cells": [
  {
   "cell_type": "code",
   "execution_count": 78,
   "source": [
    "from requests.auth import HTTPBasicAuth\n",
    "\n",
    "import numpy as np\n",
    "import pandas as pd\n",
    "\n",
    "import requests\n",
    "\n",
    "def download_data(n=10000):\n",
    "    '''\n",
    "    Returns data downloaded from a HTTP request to OpenDataSUS API in pandas DataFrame type.\n",
    "\n",
    "    Also print number of records in downloaded request.\n",
    "\n",
    "        Parameters:\n",
    "        ----------\n",
    "            n : int\n",
    "                target number of documents to be downloaded\n",
    "        \n",
    "        Returns:\n",
    "        ----------\n",
    "            pd.DataFrame\n",
    "                DataFrame of OpenDataSUS API data\n",
    "    '''\n",
    "    r =requests.post('https://imunizacao-es.saude.gov.br/_search', auth=HTTPBasicAuth('imunizacao_public', 'qlto5t&7r_@+#Tlstigi'), json={\"size\":f\"{n}\"})\n",
    "    \n",
    "    # if status code is different than 200, some problem has ocurred and no data has been downloaded.\n",
    "    if r.status_code != 200:\n",
    "        raise Exception(f\"Error in data request: status_code = {r.status_code}\")\n",
    "    \n",
    "    # align data structure to get only relevant data in dataframe\n",
    "    data = [document['_source'] for document in r.json()['hits']['hits']]\n",
    "    print(f\"Gathered {len(data)} records.\")\n",
    "    return pd.DataFrame.from_records(data)\n",
    "\n",
    "def flag_outliers_in_col(df, col='paciente_idade', threshold=2):\n",
    "    '''\n",
    "    Flag which documents are outliers based on z-score bigger than threshold.\n",
    "\n",
    "        Parameters:\n",
    "        ----------\n",
    "            df : pd.DataFrame\n",
    "                OpenDataSUS DataFrame\n",
    "            \n",
    "            col : str\n",
    "                target column to be used in z-score and outlier computation\n",
    "            \n",
    "            threshold : int\n",
    "                threshold to consider a document an outlier\n",
    "        \n",
    "        Returns:\n",
    "        ----------\n",
    "            pd.Series\n",
    "                True/False pd.Series, true being an outlier \n",
    "    '''\n",
    "    data = df[col]\n",
    "    mean = np.mean(data)\n",
    "    std = np.std(data)\n",
    "    outlier = []\n",
    "    for i in data:\n",
    "        z = (i-mean)/std\n",
    "        outlier.append(z > threshold)\n",
    "    outlier = pd.Series(outlier)\n",
    "    print(f\"Number of outliers: {outlier.sum()}\")\n",
    "    return outlier\n",
    "\n",
    "def filter_outliers(df, outlier):\n",
    "    '''\n",
    "    Filter outliers based on flag pd.Series.\n",
    "\n",
    "        Parameters:\n",
    "        ----------\n",
    "            df : pd.DataFrame\n",
    "                OpenDataSUS DataFrame\n",
    "            \n",
    "            outlier : pd.Series\n",
    "                True/False pd.Series, true being an outlier\n",
    "        \n",
    "        Returns:\n",
    "        ----------\n",
    "            pd.DataFrame\n",
    "                cleaned DataFrame based on outlier\n",
    "    '''\n",
    "    pass\n"
   ],
   "outputs": [],
   "metadata": {}
  },
  {
   "cell_type": "code",
   "execution_count": 72,
   "source": [
    "df = download_data()"
   ],
   "outputs": [
    {
     "output_type": "stream",
     "name": "stdout",
     "text": [
      "Gathered 10000 records.\n"
     ]
    }
   ],
   "metadata": {}
  },
  {
   "cell_type": "code",
   "execution_count": 75,
   "source": [
    "# show outliers\n",
    "df[flag_outliers_in_col(df)].paciente_idade"
   ],
   "outputs": [
    {
     "output_type": "stream",
     "name": "stdout",
     "text": [
      "Number of outliers: 6\n"
     ]
    },
    {
     "output_type": "execute_result",
     "data": {
      "text/plain": [
       "1140    121\n",
       "1898    107\n",
       "3119    106\n",
       "4053    105\n",
       "7693    105\n",
       "9320    108\n",
       "Name: paciente_idade, dtype: int64"
      ]
     },
     "metadata": {},
     "execution_count": 75
    }
   ],
   "metadata": {}
  }
 ],
 "metadata": {
  "orig_nbformat": 4,
  "language_info": {
   "name": "python",
   "version": "3.9.5",
   "mimetype": "text/x-python",
   "codemirror_mode": {
    "name": "ipython",
    "version": 3
   },
   "pygments_lexer": "ipython3",
   "nbconvert_exporter": "python",
   "file_extension": ".py"
  },
  "kernelspec": {
   "name": "python3",
   "display_name": "Python 3.9.5 64-bit"
  },
  "interpreter": {
   "hash": "916dbcbb3f70747c44a77c7bcd40155683ae19c65e1c03b4aa3499c5328201f1"
  }
 },
 "nbformat": 4,
 "nbformat_minor": 2
}