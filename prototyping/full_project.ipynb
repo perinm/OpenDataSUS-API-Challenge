{
 "cells": [
  {
   "cell_type": "code",
   "execution_count": 1,
   "source": [
    "from data_wrangling import Data_Wrangling"
   ],
   "outputs": [],
   "metadata": {}
  },
  {
   "cell_type": "code",
   "execution_count": 2,
   "source": [
    "print(Data_Wrangling.__doc__)"
   ],
   "outputs": [
    {
     "output_type": "stream",
     "name": "stdout",
     "text": [
      "\n",
      "    A class to represent data downloaded from OpenDAtaSUS API and it's methods.\n",
      "\n",
      "    ...\n",
      "\n",
      "    Attributes\n",
      "    ----------\n",
      "    None\n",
      "\n",
      "    Methods\n",
      "    -------\n",
      "    download_vaccinated_people_info(n=10000):\n",
      "        Returns data downloaded from a HTTP request to OpenDataSUS API.\n",
      "\n",
      "    flag_outliers_in_col(df, col='paciente_idade', threshold=2):\n",
      "        Flag which documents are outliers based on z-score bigger than threshold.\n",
      "    \n",
      "    filter_outliers(self, df, outlier):\n",
      "        Filter outliers based on flag pd.Series.\n",
      "    \n"
     ]
    }
   ],
   "metadata": {}
  },
  {
   "cell_type": "code",
   "execution_count": 3,
   "source": [
    "dwrangling = Data_Wrangling()"
   ],
   "outputs": [],
   "metadata": {}
  },
  {
   "cell_type": "code",
   "execution_count": 4,
   "source": [
    "df_people = dwrangling.download_vaccinated_people_info()\n",
    "# gather which rows are outlier in a binary True/False pd.Series\n",
    "outlier = dwrangling.flag_outliers_in_col(df_people)\n",
    "# show outliers\n",
    "df_people[outlier].paciente_idade\n",
    "# filter df based on outliers\n",
    "df_people = dwrangling.filter_outliers(df_people, outlier)\n",
    "print(f\"New len of df: {len(df_people)}\")"
   ],
   "outputs": [
    {
     "output_type": "stream",
     "name": "stdout",
     "text": [
      "Gathered 10000 records.\n",
      "Number of outliers: 5\n",
      "New len of df: 9995\n"
     ]
    }
   ],
   "metadata": {}
  }
 ],
 "metadata": {
  "orig_nbformat": 4,
  "language_info": {
   "name": "python",
   "version": "3.9.5",
   "mimetype": "text/x-python",
   "codemirror_mode": {
    "name": "ipython",
    "version": 3
   },
   "pygments_lexer": "ipython3",
   "nbconvert_exporter": "python",
   "file_extension": ".py"
  },
  "kernelspec": {
   "name": "python3",
   "display_name": "Python 3.9.5 64-bit"
  },
  "interpreter": {
   "hash": "916dbcbb3f70747c44a77c7bcd40155683ae19c65e1c03b4aa3499c5328201f1"
  }
 },
 "nbformat": 4,
 "nbformat_minor": 2
}