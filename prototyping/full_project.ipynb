{
 "cells": [
  {
   "cell_type": "code",
   "execution_count": 2,
   "source": [
    "from data_wrangling import Data_Wrangling\n",
    "from data_ingestion import Data_Ingestion\n",
    "\n",
    "import pandas as pd\n",
    "\n",
    "dingestion = Data_Ingestion()\n",
    "\n",
    "# download json to csv\n",
    "df_people = dingestion.download_vaccinated_people_info()\n",
    "dwrangling = Data_Wrangling()\n",
    "\n",
    "# gather which rows are outlier in a binary True/False pd.Series\n",
    "outlier = dwrangling.flag_outliers_in_col(\n",
    "    df_people\n",
    ")\n",
    "\n",
    "# show outliers\n",
    "df_people[outlier].paciente_idade\n",
    "\n",
    "# filter df based on outliers\n",
    "df_people = dwrangling.filter_outliers(\n",
    "    df_people,\n",
    "    outlier\n",
    ")\n",
    "\n",
    "print(f\"New len of df: {len(df_people)}\")\n",
    "\n",
    "save_path = './cadastro_estabelecimentos_cnes.zip'\n",
    "dingestion.download_establishment_data_zip(\n",
    "    url = 'https://sage.saude.gov.br/dados/repositorio/cadastro_estabelecimentos_cnes.zip',\n",
    "    save_path = save_path\n",
    ")\n",
    "dingestion.unzip_establishment_data('./cadastro_estabelecimentos_cnes.zip','./')\n",
    "df_estabilishement = pd.read_csv(\"cadastro_estabelecimentos_cnes.csv\")\n"
   ],
   "outputs": [
    {
     "output_type": "stream",
     "name": "stdout",
     "text": [
      "Gathered 10000 records.\n",
      "Number of outliers: 6\n",
      "New len of df: 9994\n"
     ]
    },
    {
     "output_type": "error",
     "ename": "AttributeError",
     "evalue": "'Data_Ingestion' object has no attribute 'download_establishment_data_zip'",
     "traceback": [
      "\u001b[0;31m---------------------------------------------------------------------------\u001b[0m",
      "\u001b[0;31mAttributeError\u001b[0m                            Traceback (most recent call last)",
      "\u001b[0;32m/tmp/ipykernel_11334/486035586.py\u001b[0m in \u001b[0;36m<module>\u001b[0;34m\u001b[0m\n\u001b[1;32m     27\u001b[0m \u001b[0;34m\u001b[0m\u001b[0m\n\u001b[1;32m     28\u001b[0m \u001b[0msave_path\u001b[0m \u001b[0;34m=\u001b[0m \u001b[0;34m'./cadastro_estabelecimentos_cnes.zip'\u001b[0m\u001b[0;34m\u001b[0m\u001b[0;34m\u001b[0m\u001b[0m\n\u001b[0;32m---> 29\u001b[0;31m dingestion.download_establishment_data_zip(\n\u001b[0m\u001b[1;32m     30\u001b[0m     \u001b[0murl\u001b[0m \u001b[0;34m=\u001b[0m \u001b[0;34m'https://sage.saude.gov.br/dados/repositorio/cadastro_estabelecimentos_cnes.zip'\u001b[0m\u001b[0;34m,\u001b[0m\u001b[0;34m\u001b[0m\u001b[0;34m\u001b[0m\u001b[0m\n\u001b[1;32m     31\u001b[0m     \u001b[0msave_path\u001b[0m \u001b[0;34m=\u001b[0m \u001b[0msave_path\u001b[0m\u001b[0;34m\u001b[0m\u001b[0;34m\u001b[0m\u001b[0m\n",
      "\u001b[0;31mAttributeError\u001b[0m: 'Data_Ingestion' object has no attribute 'download_establishment_data_zip'"
     ]
    }
   ],
   "metadata": {}
  },
  {
   "cell_type": "code",
   "execution_count": 2,
   "source": [
    "# print(Data_Wrangling.__doc__)"
   ],
   "outputs": [
    {
     "output_type": "stream",
     "name": "stdout",
     "text": [
      "\n",
      "    Class to represent methods to clean and transform data.\n",
      "\n",
      "    ...\n",
      "\n",
      "    Attributes\n",
      "    ----------\n",
      "    None\n",
      "\n",
      "    Methods\n",
      "    -------\n",
      "    download_vaccinated_people_info(n=10000):\n",
      "        Returns data downloaded from a HTTP request to OpenDataSUS API.\n",
      "\n",
      "    flag_outliers_in_col(df, col='paciente_idade', threshold=2):\n",
      "        Flag which documents are outliers based on z-score bigger than threshold.\n",
      "    \n",
      "    filter_outliers(self, df, outlier):\n",
      "        Filter outliers based on flag pd.Series.\n",
      "    \n"
     ]
    }
   ],
   "metadata": {}
  }
 ],
 "metadata": {
  "orig_nbformat": 4,
  "language_info": {
   "name": "python",
   "version": "3.9.5",
   "mimetype": "text/x-python",
   "codemirror_mode": {
    "name": "ipython",
    "version": 3
   },
   "pygments_lexer": "ipython3",
   "nbconvert_exporter": "python",
   "file_extension": ".py"
  },
  "kernelspec": {
   "name": "python3",
   "display_name": "Python 3.9.5 64-bit"
  },
  "interpreter": {
   "hash": "916dbcbb3f70747c44a77c7bcd40155683ae19c65e1c03b4aa3499c5328201f1"
  }
 },
 "nbformat": 4,
 "nbformat_minor": 2
}